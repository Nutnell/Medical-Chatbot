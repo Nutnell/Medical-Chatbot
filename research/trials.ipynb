{
 "cells": [
  {
   "cell_type": "code",
   "execution_count": null,
   "id": "a562ea4b",
   "metadata": {},
   "outputs": [
    {
     "name": "stdout",
     "output_type": "stream",
     "text": [
      "OK!\n"
     ]
    }
   ],
   "source": [
    "print(\"OK!\")"
   ]
  },
  {
   "cell_type": "code",
   "execution_count": 7,
   "id": "94f42dfe",
   "metadata": {},
   "outputs": [],
   "source": [
    "from langchain import PromptTemplate\n",
    "from langchain.chains import RetrievalQA\n",
    "from langchain_huggingface import HuggingFaceEmbeddings\n",
    "from langchain.vectorstores import Pinecone\n",
    "import pinecone\n",
    "from langchain.document_loaders import PyMuPDFLoader, DirectoryLoader\n",
    "from langchain.text_splitter import RecursiveCharacterTextSplitter\n",
    "from langchain.prompts import PromptTemplate\n",
    "from langchain.llms import CTransformers\n",
    "import os\n",
    "from langchain.chains import RetrievalQA"
   ]
  },
  {
   "cell_type": "code",
   "execution_count": null,
   "id": "92ef4edd",
   "metadata": {},
   "outputs": [],
   "source": [
    "PINECONE_API_KEY = \"\"\n"
   ]
  },
  {
   "cell_type": "code",
   "execution_count": 4,
   "id": "1f715f05",
   "metadata": {},
   "outputs": [],
   "source": [
    "def load_pdf(data):\n",
    "    loader = DirectoryLoader(data, \n",
    "                             glob=\"*.pdf\",\n",
    "                             loader_cls=PyMuPDFLoader)\n",
    "    documents = loader.load()\n",
    "    return documents"
   ]
  },
  {
   "cell_type": "code",
   "execution_count": 65,
   "id": "e232c8b3",
   "metadata": {},
   "outputs": [],
   "source": [
    "extracted_data= load_pdf(\"data/\")"
   ]
  },
  {
   "cell_type": "code",
   "execution_count": 46,
   "id": "f1e6a044",
   "metadata": {},
   "outputs": [],
   "source": [
    "#extracted_data"
   ]
  },
  {
   "cell_type": "code",
   "execution_count": 66,
   "id": "3c07190a",
   "metadata": {},
   "outputs": [],
   "source": [
    "#Create text chunks\n",
    "def text_split(extracted_data):\n",
    "    text_splitter=RecursiveCharacterTextSplitter(chunk_size=500, chunk_overlap=20)\n",
    "    text_chunks=text_splitter.split_documents(extracted_data)\n",
    "    return text_chunks"
   ]
  },
  {
   "cell_type": "code",
   "execution_count": 67,
   "id": "fe55e18a",
   "metadata": {},
   "outputs": [
    {
     "name": "stdout",
     "output_type": "stream",
     "text": [
      "Number of text chunks: 6972\n"
     ]
    }
   ],
   "source": [
    "text_chunks = text_split(extracted_data)\n",
    "print(f\"Number of text chunks: {len(text_chunks)}\")"
   ]
  },
  {
   "cell_type": "code",
   "execution_count": 68,
   "id": "4b802b11",
   "metadata": {},
   "outputs": [],
   "source": [
    "#download the embeddings model\n",
    "def download_hugging_face_embeddings():\n",
    "    embeddings = HuggingFaceEmbeddings(model_name=\"sentence-transformers/all-MiniLM-L6-v2\")\n",
    "    return embeddings"
   ]
  },
  {
   "cell_type": "code",
   "execution_count": 69,
   "id": "682f1880",
   "metadata": {},
   "outputs": [],
   "source": [
    "embeddings= download_hugging_face_embeddings()"
   ]
  },
  {
   "cell_type": "code",
   "execution_count": 70,
   "id": "d2c2e052",
   "metadata": {},
   "outputs": [
    {
     "data": {
      "text/plain": [
       "HuggingFaceEmbeddings(model_name='sentence-transformers/all-MiniLM-L6-v2', cache_folder=None, model_kwargs={}, encode_kwargs={}, query_encode_kwargs={}, multi_process=False, show_progress=False)"
      ]
     },
     "execution_count": 70,
     "metadata": {},
     "output_type": "execute_result"
    }
   ],
   "source": [
    "embeddings"
   ]
  },
  {
   "cell_type": "code",
   "execution_count": 71,
   "id": "ebc23857",
   "metadata": {},
   "outputs": [
    {
     "name": "stdout",
     "output_type": "stream",
     "text": [
      "length 384\n"
     ]
    }
   ],
   "source": [
    "query_results = embeddings.embed_query(\"Hello world\")\n",
    "print(\"length\", len(query_results))"
   ]
  },
  {
   "cell_type": "code",
   "execution_count": 53,
   "id": "8088031f",
   "metadata": {},
   "outputs": [],
   "source": [
    "#query_results"
   ]
  },
  {
   "cell_type": "code",
   "execution_count": null,
   "id": "e438a5d6",
   "metadata": {},
   "outputs": [
    {
     "name": "stdout",
     "output_type": "stream",
     "text": [
      "Embeddings created and added to Pinecone index.\n"
     ]
    }
   ],
   "source": [
    "from pinecone import Pinecone as PineconeClient, ServerlessSpec\n",
    "from langchain_pinecone import Pinecone\n",
    "from langchain_huggingface import HuggingFaceEmbeddings\n",
    "\n",
    "# --- Pinecone Configuration ---\n",
    "PINECONE_API_KEY = \"\"\n",
    "\n",
    "PINECONE_CLOUD = \"aws\"\n",
    "PINECONE_REGION = \"us-east-2\"\n",
    "\n",
    "# --- Hugging Face Embeddings Setup ---\n",
    "model_name = \"sentence-transformers/all-MiniLM-L6-v2\"\n",
    "model_kwargs = {'device': 'cpu'}\n",
    "encode_kwargs = {'normalize_embeddings': False}\n",
    "\n",
    "embeddings = HuggingFaceEmbeddings(\n",
    "    model_name=model_name,\n",
    "    model_kwargs=model_kwargs,\n",
    "    encode_kwargs=encode_kwargs\n",
    ")\n",
    "\n",
    "embedding_dimension = 384\n",
    "# Initialize the Pinecone client\n",
    "pc = PineconeClient(api_key=PINECONE_API_KEY)\n",
    "\n",
    "# Define index name\n",
    "index_name = \"medical-chatbot1\"\n",
    "\n",
    "# Check if index exists and create if not\n",
    "if index_name not in pc.list_indexes().names():\n",
    "    print(f\"Creating Pinecone index: {index_name} with dimension {embedding_dimension}\")\n",
    "    pc.create_index(\n",
    "        name=index_name,\n",
    "        dimension=embedding_dimension,\n",
    "        metric='cosine',\n",
    "        # Use ServerlessSpec directly\n",
    "        spec=ServerlessSpec(cloud=PINECONE_CLOUD, region=PINECONE_REGION)\n",
    "    )\n",
    "    print(\"Index created. Waiting for index to be ready...\")\n",
    "    import time\n",
    "    time.sleep(60)\n",
    "\n",
    "# LangChain's Pinecone class to add texts\n",
    "pinecone_vectorstore = Pinecone(\n",
    "    index_name=index_name,\n",
    "    embedding=embeddings,\n",
    "    pinecone_api_key=PINECONE_API_KEY,\n",
    ")\n",
    "\n",
    "# Creating Embeddings for each of the Text Chunks and storing it\n",
    "docsearch = pinecone_vectorstore.add_texts([t.page_content for t in text_chunks])\n",
    "\n",
    "print(\"Embeddings created and added to Pinecone index.\")"
   ]
  },
  {
   "cell_type": "code",
   "execution_count": null,
   "id": "d33d5076",
   "metadata": {},
   "outputs": [
    {
     "name": "stdout",
     "output_type": "stream",
     "text": [
      "Result [Document(id='81c0abdb-bf91-4c10-84b2-d634537072f5', metadata={}, page_content='ORGANIZATIONS\\nAmerican Academy of Ophthalmology. 655 Beach Street, PO\\nBox 7424, San Francisco, CA 94120-7424. <http://www.\\neyenet.org>.\\nKEY TERMS\\nAllergen—A substance capable of inducing an\\nallergic response.\\nAllergic reaction—An immune system reaction to\\na substance in the environment; symptoms\\ninclude rash, inflammation, sneezing, itchy watery\\neyes, and runny nose.\\nConjunctiva—The mucous membrane that covers\\nthe white part of the eyes and lines the eyelids.'), Document(id='9ebb534d-12ea-45a7-8a31-59d292fcbce1', metadata={}, page_content='Although environmental medicine is gaining more\\nrespect within conventional medicine, detoxification\\nKEY TERMS\\nAllergen—A foreign substance, such as mites in\\nhouse dust or animal dander, that when\\ninhaled,causes the airways to narrow and pro-\\nduces symptoms of asthma.\\nAntibody—A protein, also called immunoglobu-\\nlin, produced by immune system cells to remove\\nantigens (the foreign substances that trigger the\\nimmune response).\\nFibromyalgia—A condition of debilitating pain,'), Document(id='b8a7a1a1-585f-40f6-8127-73993e05d8e1', metadata={}, page_content='allergy tests are used to determine a patient’s sensitivity\\nto a variety of common substances, including formalde-\\nhyde, auto exhaust, perfume, tobacco, chlorine, jet fuel,\\nand other chemicals.\\nFood allergies require additional tests because these\\nallergies often cause reactions that are delayed for several\\ndays after the food is eaten. The RAST (radioallergosor-\\nbent test) is a blood test that determines the level of anti-\\nbodies (immunoglobulins) in the blood after specific')]\n"
     ]
    }
   ],
   "source": [
    "from langchain_pinecone import Pinecone\n",
    "from langchain_huggingface import HuggingFaceEmbeddings\n",
    "import os \n",
    "\n",
    "PINECONE_API_KEY = \"\"\n",
    "PINECONE_CLOUD = \"aws\"\n",
    "PINECONE_REGION = \"us-east-2\"\n",
    "index_name = \"medical-chatbot1\"\n",
    "\n",
    "os.environ[\"PINECONE_API_KEY\"] = PINECONE_API_KEY\n",
    "\n",
    "# Embedding Model Setup (for query embedding)\n",
    "hf_model_name = \"sentence-transformers/all-MiniLM-L6-v2\"\n",
    "embeddings = HuggingFaceEmbeddings(model_name=hf_model_name)\n",
    "\n",
    "# Loading an existing index\n",
    "docsearch = Pinecone.from_existing_index(\n",
    "    index_name=index_name,\n",
    "    embedding=embeddings,\n",
    ")\n",
    "\n",
    "query = \"What are allergies\"\n",
    "\n",
    "docs = docsearch.similarity_search(query, k=3)\n",
    "\n",
    "print(\"Result\", docs)"
   ]
  },
  {
   "cell_type": "code",
   "execution_count": 11,
   "id": "a2d7ed27",
   "metadata": {},
   "outputs": [],
   "source": [
    "prompt_template=\"\"\"\n",
    "Use the following pieces of information to answer the question at the user's question.\n",
    "If you don't know the answer, say so, don't try to make something up.\n",
    "\n",
    "Context: {context}\n",
    "Question: {question}\n",
    "\n",
    "Only return the helpful answer below and nothing else.\n",
    "Helpful answer:\n",
    "\"\"\""
   ]
  },
  {
   "cell_type": "code",
   "execution_count": 12,
   "id": "79724a0a",
   "metadata": {},
   "outputs": [],
   "source": [
    "PROMPT=PromptTemplate(template=prompt_template, input_variables=[\"context\", \"question\"])\n",
    "chain_type_kwargs={\"prompt\": PROMPT}"
   ]
  },
  {
   "cell_type": "code",
   "execution_count": 13,
   "id": "c49079d3",
   "metadata": {},
   "outputs": [],
   "source": [
    "llm=CTransformers(model=\"Model/llama-2-7b-chat.ggmlv3.q4_0.bin\",\n",
    "                  model_type=\"llama\",\n",
    "                  config={\n",
    "                      'max_new_tokens':512,\n",
    "                      'temperature':0.8\n",
    "                      }\n",
    "                      )\n",
    "\n",
    "\n"
   ]
  },
  {
   "cell_type": "code",
   "execution_count": 14,
   "id": "48a92001",
   "metadata": {},
   "outputs": [],
   "source": [
    "qa=RetrievalQA.from_chain_type(\n",
    "    llm=llm,\n",
    "    chain_type=\"stuff\",\n",
    "    retriever=docsearch.as_retriever(search_kwargs={'k':2}),\n",
    "    return_source_documents=True,\n",
    "    chain_type_kwargs=chain_type_kwargs\n",
    ")"
   ]
  },
  {
   "cell_type": "code",
   "execution_count": null,
   "id": "1798797b",
   "metadata": {},
   "outputs": [
    {
     "name": "stdout",
     "output_type": "stream",
     "text": [
      "Response:  Acne is a skin condition characterized by inflammation of oil glands, which can lead to the formation of comedones (blackheads and whiteheads), pimples, and cysts. It can result from hormonal changes, stress, certain medications, and genetic predisposition. Acne can have a significant impact on an individual's self-esteem and quality of life.\n"
     ]
    }
   ],
   "source": [
    "while True:\n",
    "    user_input = input(f\"Input Prompt:\")\n",
    "    result = qa.invoke({\"query\": user_input})\n",
    "    print(\"Response: \", result[\"result\"])"
   ]
  }
 ],
 "metadata": {
  "kernelspec": {
   "display_name": "mchatbot",
   "language": "python",
   "name": "python3"
  },
  "language_info": {
   "codemirror_mode": {
    "name": "ipython",
    "version": 3
   },
   "file_extension": ".py",
   "mimetype": "text/x-python",
   "name": "python",
   "nbconvert_exporter": "python",
   "pygments_lexer": "ipython3",
   "version": "3.13.5"
  }
 },
 "nbformat": 4,
 "nbformat_minor": 5
}
